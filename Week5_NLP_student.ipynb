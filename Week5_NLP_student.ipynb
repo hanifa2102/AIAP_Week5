{
 "cells": [
  {
   "cell_type": "markdown",
   "metadata": {},
   "source": [
    "# Week 5 - Natural Language Processing (NLP)"
   ]
  },
  {
   "cell_type": "markdown",
   "metadata": {},
   "source": [
    "In this week's exercise, we will apply neural networks to a new type of data - text. You will also pick your own corpus of text to play with.  **But first, some definitions** (there's a lot of new jargon in 'NLP'):\n",
    "* *Corpus*: The set of all text documents you want to work on\n",
    "* *Document*: An individual unit of text in your corpus\n",
    "\n",
    "Below are some **examples of corpora** to get you thinking:\n",
    "\n",
    "* Corpus of 100,000 IMDB reviews, where each document is an individual review\n",
    "* Corpus of 20 English novels, where each document is an individual novel\n",
    "* Corpus of one Malay novel, where each document is a chapter\n",
    "\n",
    "You can **browse for a corpus in the below links** (if you don't already have one in mind):\n",
    "\n",
    "* https://github.com/niderhoff/nlp-datasets\n",
    "* https://www.gutenberg.org/catalog/\n",
    "\n",
    "If this is your first time working with text, it's probably easier to deal with a corpus of many short documents - for example the IMDB review dataset, which is linked below in Chapter 2.  Play around with several corpora over the course of week, and work with something that interests you. Remember text doesn't have to be English (try other languages), or even a natural language (try code or musical notation)!\n",
    "\n",
    "**Key learning resources** for the week:\n",
    "* https://web.stanford.edu/~jurafsky/slp3/ - legendary textbook introducing key theory and concepts of working with text, up to deep learning methods\n",
    "* http://web.stanford.edu/class/cs224n/ - great course that introduces theory and concepts of text processing in the context of deep learning (can read class notes / assignments and skip videos if you are short on time) \n",
    "* https://course.fast.ai/index.html - fast.ai's introduction to deep learning (you'll have to pick out the bits about text and RNNs) is an efficient and effective way of tackling the topic\n",
    "* https://www.datacamp.com/courses/natural-language-processing-fundamentals-in-python - very hands on datacamp course that will let you practice using existing tools for NLP tasks\n",
    "\n",
    "Some **additional tools below** that can help in NLP (if you haven't found them already):\n",
    "* scikit-learn has a handy set of features for NLP\n",
    "* https://spacy.io/ - commercially oriented python package for NLP\n",
    "* https://www.nltk.org/ - slightly more academic oriented python package for NLP \n",
    "\n",
    "## Imports"
   ]
  },
  {
   "cell_type": "code",
   "execution_count": 1,
   "metadata": {},
   "outputs": [],
   "source": [
    "import numpy as np  # a conventional alias\n",
    "from sklearn.feature_extraction.text import CountVectorizer,TfidfTransformer\n",
    "from src.preprocess import getFileNames\n",
    "from scipy.cluster import  hierarchy\n",
    "from scipy.cluster.hierarchy import linkage,dendrogram,cophenet\n",
    "from scipy.spatial.distance import pdist\n",
    "import matplotlib.pyplot as plt\n",
    "from sklearn.decomposition import LatentDirichletAllocation"
   ]
  },
  {
   "cell_type": "markdown",
   "metadata": {},
   "source": [
    "# Chapter 1: How do we turn text into data we can use?"
   ]
  },
  {
   "cell_type": "markdown",
   "metadata": {},
   "source": [
    "### Convert your corpus into bags of words\n",
    "\n",
    "We can't apply any of the techniques we have learned over the past few weeks directly on raw text.  Therefore, our first task is to convert our corpus into numbers.  The simplest way to do this is to use a **bag of words**. You can see some examples of this here: https://liferay.de.dariah.eu/tatom/index.html.\n",
    "\n",
    "Once you understand the concept, convert your corpus and documents into bags of words below:"
   ]
  },
  {
   "cell_type": "markdown",
   "metadata": {},
   "source": [
    "- Using the IMDB movies reviews\n",
    "- Unsup dataset is used"
   ]
  },
  {
   "cell_type": "code",
   "execution_count": 2,
   "metadata": {},
   "outputs": [],
   "source": [
    "# mypath='/home/hanifa/workspace/AIAP/AIAP_Week5/aclImdb/train/tt'\n",
    "mypath='/home/jupyter/AIAP_Week5/aclImdb/train/unsup/'\n",
    "filenames=getFileNames(mypath)"
   ]
  },
  {
   "cell_type": "code",
   "execution_count": 3,
   "metadata": {},
   "outputs": [],
   "source": [
    "def checkVectorizer(dtm):\n",
    "    a=dtm.sum(axis=0)\n",
    "    a.sort(axis=0)\n",
    "    print(a[-100:])"
   ]
  },
  {
   "cell_type": "markdown",
   "metadata": {},
   "source": [
    "- Was having memory errors loading all the unsup data, thus just took a sample of 7K."
   ]
  },
  {
   "cell_type": "code",
   "execution_count": 10,
   "metadata": {},
   "outputs": [],
   "source": [
    "from sklearn.feature_extraction import text \n",
    "my_additional_stop_words=['br','film','movie']\n",
    "stop_words = text.ENGLISH_STOP_WORDS.union(my_additional_stop_words)\n",
    "\n",
    "vectorizer = CountVectorizer(input='filename',stop_words=stop_words,max_df=1000)\n",
    "# vectorizer = CountVectorizer(input='filename',stop_words='english')'\n",
    "dtm = vectorizer.fit_transform(filenames)  # a sparse matrix \n",
    "vocab = vectorizer.get_feature_names()\n",
    "\n",
    "# type(dtm)                                         \n",
    "dtm = dtm.toarray()  # convert to a regular array \n",
    "vocab = np.array(vocab)"
   ]
  },
  {
   "cell_type": "code",
   "execution_count": 11,
   "metadata": {},
   "outputs": [
    {
     "name": "stdout",
     "output_type": "stream",
     "text": [
      "[ 445  446  446  447  449  449  451  453  454  457  457  467  468  473\n",
      "  475  480  483  483  493  494  501  502  504  513  514  514  532  535\n",
      "  536  537  538  540  543  547  547  554  556  560  564  573  573  583\n",
      "  589  591  602  607  617  620  622  632  638  639  642  654  658  668\n",
      "  681  685  691  692  705  715  721  723  724  747  749  761  767  771\n",
      "  789  797  811  820  834  844  877  878  880  893  910  913  920  926\n",
      " 1015 1038 1078 1086 1105 1147 1167 1169 1193 1249 1251 1262 1273 1345\n",
      " 1361 1370]\n"
     ]
    },
    {
     "data": {
      "text/plain": [
       "(4445, 33431)"
      ]
     },
     "execution_count": 11,
     "metadata": {},
     "output_type": "execute_result"
    }
   ],
   "source": [
    "checkVectorizer(dtm)\n",
    "dtm.shape"
   ]
  },
  {
   "cell_type": "markdown",
   "metadata": {},
   "source": [
    "### Show us your bags\n",
    "\n",
    "Show and explain what one of your documents looks like as a bag of words below.  What are the advantages and disadvantages of encoding text as bags of words?"
   ]
  },
  {
   "cell_type": "markdown",
   "metadata": {},
   "source": [
    "- The column represents the words and the rows the document itself. \n",
    "- By summing up the column, we can total frequency across all documents"
   ]
  },
  {
   "cell_type": "code",
   "execution_count": 12,
   "metadata": {},
   "outputs": [],
   "source": [
    "def getFrequentWord(dtm):\n",
    "    dtm_sum=dtm.sum(axis=0)\n",
    "    idx=dtm_sum.argmax(axis=0)\n",
    "    print(\"Most frequent word: %s\" %(vocab[idx]))"
   ]
  },
  {
   "cell_type": "code",
   "execution_count": 13,
   "metadata": {},
   "outputs": [
    {
     "name": "stdout",
     "output_type": "stream",
     "text": [
      "Most frequent word: love\n"
     ]
    }
   ],
   "source": [
    "getFrequentWord(dtm)"
   ]
  },
  {
   "cell_type": "code",
   "execution_count": null,
   "metadata": {},
   "outputs": [],
   "source": [
    "# words_freq = [(word, sum_words[0, idx]) for word, idx in     vec.vocabulary_.items()]\n",
    "# words_freq =sorted(words_freq, key = lambda x: x[1], reverse=True)"
   ]
  },
  {
   "cell_type": "markdown",
   "metadata": {},
   "source": [
    "Cons:\n",
    " - Most frequent words are considered the most important\n",
    " - In this case, the br word "
   ]
  },
  {
   "cell_type": "markdown",
   "metadata": {},
   "source": [
    "### Tell us a story with your bags\n",
    "Now that your text is in a more digestible format, you can apply previously learned techniques to better understand the corpus. **Create a brief story around your corpus, for example by using clustering techniques.** Some examples of what you can do below:\n",
    "* Use *Hierarchical Clustering* to understand similarity of documents in your corpus. What distance measure works best? Are the results what you expect?"
   ]
  },
  {
   "cell_type": "markdown",
   "metadata": {},
   "source": [
    "* Use Hierarchical Clustering to understand similarity of documents in your corpus. What distance measure works best? Are the results what you expect?\n",
    "- Comparing Euclidean and Cosine, Cosine seems better as it <br/>\n",
    "[Hierarchial Clustering Code](https://datascience.stackexchange.com/questions/22828/clustering-with-cosine-similarity/22834)"
   ]
  },
  {
   "cell_type": "code",
   "execution_count": null,
   "metadata": {},
   "outputs": [],
   "source": [
    "def doHierarchialClustering(dtm,metric,threshold):\n",
    "    Z = hierarchy.linkage(dtm,\"average\", metric=metric)\n",
    "    fig=plt.figure(figsize = (7,4))\n",
    "    ax=fig.add_subplot(111)\n",
    "    ax.set(title=\"method_str\",xlabel='Clusters',ylabel='Height')\n",
    "    dendrogram(Z,\n",
    "    #            labels=df1.index.values,\n",
    "           ax=ax,\n",
    "           truncate_mode='lastp',\n",
    "           orientation='top',\n",
    "           show_leaf_counts=True\n",
    "    )\n",
    "\n",
    "    plt.show()\n",
    "    C = hierarchy.fcluster(Z,threshold, criterion=\"distance\")\n",
    "    print(\"Number of clusters %d\" %(len(np.unique(hierarchy.fcluster(Z, threshold, criterion=\"distance\")))))\n",
    "    c, coph_dists = cophenet(Z, pdist(dtm))\n",
    "#     print (\"My name is %s and weight is %d kg!\" % ('Zara', 21))\n",
    "    print(\"Cophenet score is %f\"%(c))\n",
    "    "
   ]
  },
  {
   "cell_type": "code",
   "execution_count": null,
   "metadata": {},
   "outputs": [],
   "source": [
    "doHierarchialClustering(dtm,'euclidean',threshold=20)"
   ]
  },
  {
   "cell_type": "code",
   "execution_count": null,
   "metadata": {},
   "outputs": [],
   "source": [
    "doHierarchialClustering(dtm,'cosine',threshold=.89)"
   ]
  },
  {
   "cell_type": "markdown",
   "metadata": {},
   "source": [
    "* Learn about *Latent Dirichlet Allocation* to extract topics from your corpora, and measure each document on how much of each topic it contains. How do you interpret these topics?\n",
    "\n",
    "Some **potential inspiration** below (but please keep your own story simple!):\n",
    "* https://liferay.de.dariah.eu/tatom/topic_model_mallet.html covers a few examples of text analysis\n",
    "* http://fantheory.viacom.com/\n",
    "* https://pudding.cool/2017/02/vocabulary/\n",
    "\n",
    "Additional resources on LDA (if you are interested): \n",
    "* https://medium.com/@lettier/how-does-lda-work-ill-explain-using-emoji-108abf40fa7d\n",
    "* https://www.youtube.com/watch?v=DDq3OVp9dNA"
   ]
  },
  {
   "cell_type": "markdown",
   "metadata": {},
   "source": [
    "[LDA Code](https://medium.com/mlreview/topic-modeling-with-scikit-learn-e80d33668730)\n",
    "\n",
    "[Grid Search LDA](https://www.machinelearningplus.com/nlp/topic-modeling-python-sklearn-examples/)"
   ]
  },
  {
   "cell_type": "code",
   "execution_count": null,
   "metadata": {},
   "outputs": [],
   "source": []
  },
  {
   "cell_type": "code",
   "execution_count": 14,
   "metadata": {},
   "outputs": [
    {
     "name": "stderr",
     "output_type": "stream",
     "text": [
      "/usr/local/lib/python3.5/site-packages/sklearn/decomposition/online_lda.py:294: DeprecationWarning: n_topics has been renamed to n_components in version 0.19 and will be removed in 0.21\n",
      "  DeprecationWarning)\n"
     ]
    }
   ],
   "source": [
    "n_components=2\n",
    "lda = LatentDirichletAllocation(n_topics=n_components, max_iter=5, learning_method='online',\n",
    "                                learning_offset=50.,random_state=0,n_jobs=-1).fit(dtm)\n",
    "\n",
    "def display_topics(model, feature_names, no_top_words):\n",
    "    for topic_idx, topic in enumerate(model.components_):\n",
    "        print (\"Topic %d:\" % (topic_idx))\n",
    "        print (\" \".join([feature_names[i]\n",
    "                        for i in topic.argsort()[:-no_top_words - 1:-1]]))"
   ]
  },
  {
   "cell_type": "code",
   "execution_count": 15,
   "metadata": {},
   "outputs": [
    {
     "name": "stdout",
     "output_type": "stream",
     "text": [
      "Topic 0:\n",
      "movies love films think character life characters watch bad little man seen did know plot does acting end better scene scenes ve say real old years makes work director new 10 actors lot watching world doesn look young funny cast actually didn quite going thing things fact role thought want family horror saw bit performance pretty got comedy times music girl long interesting point right come action feel big day away gets guy especially fun isn woman making ll hard wife original played far beautiful comes sure tv father year sex kind having worth believe job true play dvd shows\n",
      "Topic 1:\n",
      "batman charlie holmes pesci series vinny brown bruce car fly frankenstein dracula star wraith sharpe british madeleine ffolkes davis sheen station tomei phantasm woodstock seth cousin kinski howard battle arthur space sisko shaft gang goldblum flynn joe moore joker cronenberg chaney jews brundle north dr episode sea nazi sherlock plays christy thanksgiving washington scientist wayne nick monster finzi new perkins man korman western emil packard mad andrea george jake britain adamson oil james knight officer naish town marisa cassavetes war anthony lean charles world verne mason valentino mask doug animated richard deep valiant penn gwynne vs mitchell rig evil government\n"
     ]
    }
   ],
   "source": [
    "no_top_words = 100\n",
    "display_topics(lda, vocab, no_top_words)"
   ]
  },
  {
   "cell_type": "markdown",
   "metadata": {},
   "source": [
    "- Should remove common words like br and film and movie"
   ]
  },
  {
   "cell_type": "markdown",
   "metadata": {},
   "source": [
    "### Normalize your bags\n",
    "In the above exercise, you may find it important to normalize your data.  One useful method when dealing with text is *Term Frequency - Inverse Document Frequency (TF-IDF)*. You can see more detail on this here: http://blog.christianperone.com/2011/10/machine-learning-text-feature-extraction-tf-idf-part-ii/.\n",
    "\n",
    "Once you understand the concept, **express your data as TF-IDF vectors (instead of simple bag-of-words counts), and see if it changes your above story**. "
   ]
  },
  {
   "cell_type": "code",
   "execution_count": null,
   "metadata": {},
   "outputs": [],
   "source": [
    "dtm_tfid = TfidfTransformer().fit_transform(dtm)\n",
    "dtm_tfid = dtm_tfid.toarray() "
   ]
  },
  {
   "cell_type": "code",
   "execution_count": null,
   "metadata": {},
   "outputs": [],
   "source": [
    "getFrequentWord(dtm_tfid)"
   ]
  },
  {
   "cell_type": "code",
   "execution_count": null,
   "metadata": {},
   "outputs": [],
   "source": [
    "doHierarchialClustering(dtm_tfid,'cosine',threshold=0.9)"
   ]
  },
  {
   "cell_type": "code",
   "execution_count": null,
   "metadata": {},
   "outputs": [],
   "source": [
    "doHierarchialClustering(dtm_tfid,'euclidean',threshold=0.8)"
   ]
  },
  {
   "cell_type": "markdown",
   "metadata": {},
   "source": [
    "### Show us your bags (Version 2)\n",
    "\n",
    "Show and explain what one of your documents looks like as a TF-IDF vector below.  How is this different from a simple bag-of-words?"
   ]
  },
  {
   "cell_type": "code",
   "execution_count": null,
   "metadata": {},
   "outputs": [],
   "source": [
    "# dtm[vocab=='br']"
   ]
  },
  {
   "cell_type": "code",
   "execution_count": null,
   "metadata": {},
   "outputs": [],
   "source": [
    "np.unique(dtm_tfid[2,:])"
   ]
  },
  {
   "cell_type": "code",
   "execution_count": null,
   "metadata": {},
   "outputs": [],
   "source": [
    "np.unique(dtm[2,:])"
   ]
  },
  {
   "cell_type": "code",
   "execution_count": null,
   "metadata": {},
   "outputs": [],
   "source": [
    "dtm_tfid_sum = dtm_tfid.sum(axis=0)\n",
    "vocab[dtm_tfid_sum.argmax(axis=0)]"
   ]
  },
  {
   "cell_type": "markdown",
   "metadata": {},
   "source": [
    "# Chapter 2: Simple Supervised Learning with Text\n",
    "Now that you are comfortable with treating text as numbers, we can try out supervised learning.  We'll use a labelled dataset of IMDB reviews to classify each review as 'positive' or 'negative'.  You can **find the data below:**\n",
    "\n",
    "http://ai.stanford.edu/~amaas/data/sentiment/\n",
    "\n",
    "Load in and process the data, then train a supervised learning model.  **You should achieve val or test set accuracy of 85%**. Pretty good for a simple bag, no?"
   ]
  },
  {
   "cell_type": "markdown",
   "metadata": {},
   "source": [
    "[Sentiment Analysis in IMDB)[https://itnext.io/machine-learning-sentiment-analysis-of-movie-reviews-using-logisticregression-62e9622b4532]"
   ]
  },
  {
   "cell_type": "markdown",
   "metadata": {},
   "source": [
    "# Chapter 3: Playing with Recurrent Neural Networks (RNN)\n",
    "So far, we've only treated text as a simple bag, with reasonable results.  We'll now shift to a more complex representation of language: recurrent neural networks.  To do so, we need to process text at the word or character level, and capture the sequence of a document. \n",
    "\n",
    "Our task here is to build an RNN that 'eats up' sequences of characters in order to predict the next character in a sequence, for every step in the sequence of a document. This is a common (and fun) task, with lots of examples available online. \n",
    "\n",
    "For this task, use existing RNN APIs (don't code everything from scratch) from Keras or PyTorch. \n",
    "\n",
    "**Read up on RNNs and this exercise** below:\n",
    "* http://karpathy.github.io/2015/05/21/rnn-effectiveness/ - start here!\n",
    "* https://github.com/martin-gorner/tensorflow-rnn-shakespeare - video, slides and code going through an example with Shakespeare\n",
    "* http://killianlevacher.github.io/blog/posts/post-2016-03-01/post.html - another nice example based on Trump tweets\n",
    "\n",
    "### Prepare your data\n",
    "\n",
    "Our first step is to prepare our text. **Process your corpora into a format that can be used by an RNN, and walkthough one sequence below**.\n",
    "\n",
    "An **example way to shape your data** for this task is as follows (feel free to play around with different structures):\n",
    "\n",
    "*In this example your corpora starts with the string 'the cat and I'*\n",
    "* RNN input: divide your text into sequences of 10 characters e.g. 'the cat an'\n",
    "* RNN output: the 1 character immediately following RNN input sequences e.g. 'd'. \n",
    "* Note: You may or may not want to divide your text into overlapping strings (e.g. RNN input contains 'the cat an', 'he cat and', 'e cat and ', ...) . How is the model different in each case?\n",
    "* Note: Your 'vocabulary' or `vocab_size` here is the number of unique characters in your text (and therefore the number of classes you want to predict)"
   ]
  },
  {
   "cell_type": "code",
   "execution_count": null,
   "metadata": {},
   "outputs": [],
   "source": []
  },
  {
   "cell_type": "markdown",
   "metadata": {},
   "source": [
    "### Generate text\n",
    "\n",
    "Once the model is trained, we can use it to generate completely new text in the style of your training data.  **Train a model using your original choice of corpus below, and generate some sample sentences.** Don't worry too much about your loss / accuracy during training, but instead check on the text your model is generating. Your generated text should be somewhat coherent, i.e. similar to your training text in structure, and not excessively mispelled.\n",
    "\n",
    "An **example model architecture** is as follows (feel free to play around with different structures):\n",
    "* Embedding (for each character in your vocab) of dimension 64\n",
    "* Dropout of 20% for the embedding input to the RNN\n",
    "* 2 LSTM layers, each of dimension 512 (play around with the number and dimension of hidden layers)\n",
    "* Dropout of 50% for each LSTM layer\n",
    "* Dense softmax layer of same dimension as your vocab size (e.g. if your vocab size is 100, this layer is the probabilty that your output is one of 100 possible characters)\n",
    "    \n",
    "**You should understand what each of the above elements are and how they work at a high level by the end of this week's exercise.**"
   ]
  },
  {
   "cell_type": "code",
   "execution_count": null,
   "metadata": {},
   "outputs": [],
   "source": []
  },
  {
   "cell_type": "markdown",
   "metadata": {},
   "source": [
    "### Generalizing the exercise\n",
    "How do you think you can apply what you learned in the above exercise to other problems involving text? For example, how would you tackle the previous IMDB sentiment classification task using an RNN architecture? **Discuss below.**\n",
    "\n",
    "(*Bonus*: create an RNN model for the IMDB classification task and discuss your results. How does the performance compare to your bag of words model?)"
   ]
  },
  {
   "cell_type": "code",
   "execution_count": null,
   "metadata": {},
   "outputs": [],
   "source": []
  },
  {
   "cell_type": "markdown",
   "metadata": {},
   "source": [
    "# Chapter 4: RNNs from scratch\n",
    "Now that you understand how to use RNNs, it's time to build a basic one from scratch.  You won't understand how they work until you get stuck in the weeds! \n",
    "\n",
    "### Generate text (Version 2)\n",
    "Your task is now to **build the forward pass of a simple RNN, without using any existing RNN APIs**. You can use PyTorch or Tensorflow (Keras is too high level for this exercise), both of which will automatically handle backpropagation for you.  If you use Tensorflow, please research and use Eager execution - it replaces Tensorflow's default graph / session framework, which is very difficult to learn and debug.\n",
    "\n",
    "Similar to last week's exercise, create a class for your network (write forward and loss steps, allowing PyTorch or Tensorflow to handle backpropagation for you).  Consider appropriate sizes for your input, hidden and output layers - your __init__ method should take in the params `hidden_size`, `vocab_size`, and `embedding_size` (if you use embeddings). Using these variables, you should initialise three weight layers `input_layer`, `hidden_layer`, and `output_layer`.  In an RNN, you will also have to deal with another item - the `hidden_state`. (Note: your RNN structure may vary slightly from this depending on your learning materials, but the key part is always `hidden_state`)\n",
    "\n",
    "You should **train your RNN on the same data and task as in Chapter 3.**"
   ]
  },
  {
   "cell_type": "code",
   "execution_count": null,
   "metadata": {},
   "outputs": [],
   "source": []
  },
  {
   "cell_type": "markdown",
   "metadata": {},
   "source": [
    "**How do the results of your basic RNN compare to your model in Chapter 3?**  What do you think explains the difference in performance? Discuss below.\n",
    "\n",
    "Some relevant resources on LSTMs (and RNN theory) below if you are interested:\n",
    "* http://colah.github.io/posts/2015-08-Understanding-LSTMs/\n",
    "* https://www.youtube.com/watch?v=93rzMHtYT_0&list=LLpNVCNE9cYqVrjb2O8bZUGg&index=2&t=0s\n",
    "* https://www.youtube.com/watch?v=zQxm3Upr3_I\n",
    "* http://harinisuresh.com/2016/10/09/lstms/"
   ]
  },
  {
   "cell_type": "code",
   "execution_count": null,
   "metadata": {},
   "outputs": [],
   "source": []
  },
  {
   "cell_type": "markdown",
   "metadata": {},
   "source": [
    "### Bonus Challenges (not required!):\n",
    "1. Build the forward pass of an LSTM, without using any existing RNN APIs (as above, with PyTorch or Tensorflow)\n",
    "1. Build a basic RNN or LSTM in Numpy - including forward pass as well as backpropogation"
   ]
  },
  {
   "cell_type": "code",
   "execution_count": null,
   "metadata": {},
   "outputs": [],
   "source": []
  }
 ],
 "metadata": {
  "kernelspec": {
   "display_name": "Python 3",
   "language": "python",
   "name": "python3"
  },
  "language_info": {
   "codemirror_mode": {
    "name": "ipython",
    "version": 3
   },
   "file_extension": ".py",
   "mimetype": "text/x-python",
   "name": "python",
   "nbconvert_exporter": "python",
   "pygments_lexer": "ipython3",
   "version": "3.5.3"
  }
 },
 "nbformat": 4,
 "nbformat_minor": 2
}
